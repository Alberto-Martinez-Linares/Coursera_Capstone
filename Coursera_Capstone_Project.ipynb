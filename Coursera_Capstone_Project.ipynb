#!/usr/bin/env python
# coding: utf-8

# ### Captsone Project
# This notebook will be used fot the Captsone project for the IBM Data Science Certificate. In this project I will be working on a case study which is to predict the severity of an accident. The data set for this exercise will be from the Seatle city.

# In[3]:


import pandas as pd
import numpy as np
print ('Hello Capstone Project Course!')

